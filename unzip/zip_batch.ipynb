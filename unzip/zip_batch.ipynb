{
 "cells": [
  {
   "cell_type": "code",
   "execution_count": 2,
   "metadata": {},
   "outputs": [],
   "source": [
    "import zipfile\n",
    "import os\n",
    "from distutils.dir_util import copy_tree"
   ]
  },
  {
   "cell_type": "code",
   "execution_count": 2,
   "metadata": {},
   "outputs": [],
   "source": [
    "# Go to Test directory\n",
    "task_dir = 'E:\\RawData'\n",
    "os.chdir(task_dir)"
   ]
  },
  {
   "cell_type": "code",
   "execution_count": 3,
   "metadata": {},
   "outputs": [
    {
     "data": {
      "text/plain": [
       "'E:\\\\RawData'"
      ]
     },
     "execution_count": 3,
     "metadata": {},
     "output_type": "execute_result"
    }
   ],
   "source": [
    "# Check directory\n",
    "os.getcwd()"
   ]
  },
  {
   "cell_type": "code",
   "execution_count": 7,
   "metadata": {},
   "outputs": [],
   "source": [
    "# Subject List\n",
    "subjectList = os.listdir()\n",
    "subjectList = subjectList[subjectList.index(\"A0040\"):] # Start from A0040"
   ]
  },
  {
   "cell_type": "code",
   "execution_count": 8,
   "metadata": {},
   "outputs": [],
   "source": [
    "# Saved path\n",
    "savedpath_father = 'E:\\Saved'"
   ]
  },
  {
   "cell_type": "code",
   "execution_count": 11,
   "metadata": {
    "scrolled": true
   },
   "outputs": [
    {
     "name": "stdout",
     "output_type": "stream",

   "source": [
    "# Automatically unzipping files\n",
    "for sub in subjectList:\n",
    "    print(sub, \"Subject\")\n",
    "    os.chdir(os.path.join(task_dir, sub)) # go to subject dir\n",
    "    zipfileList = [] # store zip files\n",
    "    for file in os.listdir(): # check files in current dir\n",
    "        if file.endswith(\".zip\"): # get zip files\n",
    "            zipfileList.append(file) # store them into zipfileList\n",
    "    #end zipfilelist\n",
    "    if zipfileList == []: # if no zip file, pass\n",
    "        print(sub, \"No zip file\")\n",
    "        pass\n",
    "    for zips in zipfileList: # unzip loop\n",
    "        sub_name = os.path.splitext(zips)[0]\n",
    "        os.chdir(os.path.join(task_dir, sub))\n",
    "        print(zips, \"Unzipping\")\n",
    "        if os.path.exists(sub_name): # check whether folder exists\n",
    "            print(zips, \"Skipped\")\n",
    "            pass # skip zipping if true\n",
    "        else:\n",
    "            os.makedirs(sub_name, exist_ok=True) # make a subfolder dir\n",
    "            try:\n",
    "                with zipfile.ZipFile(zips, 'r') as unzip: # open zip file\n",
    "                    unzip.extractall(os.path.join(os.getcwd(), sub_name)) # extract files to subfolder\n",
    "                unzip.close()\n",
    "                print(zips, \"Unzipped\")\n",
    "            except Exception as e: # catch error, print and skip\n",
    "                print(\"File Location\", os.path.join(os.getcwd(), zips))\n",
    "                print(\"Exception:\" e)\n",
    "                print(\"Will not copy, skip to next zip file\")\n",
    "                continue\n",
    "        \n",
    "        try: # go to subfolder\n",
    "            os.chdir(os.path.join(os.getcwd(), sub_name, \"scans\"))\n",
    "        except Exception as e: # skip if path is not correct\n",
    "            print(\"File Location\",  os.path.join(os.getcwd(), zips))\n",
    "            print(\"Exception:\" e)\n",
    "            print(\"Will not copy, skip to next zip file\")\n",
    "            continue\n",
    "            \n",
    "        print(zips, \"Copying\")\n",
    "        for file in os.listdir(): # check files in current dir\n",
    "            if int(file.split('_')[0]) > 100: # if seriesNumber > 100 then skip\n",
    "                continue # go to next file if true\n",
    "            # check file names copy if true\n",
    "            if \"STRUC BRAVO SAG3D\" in file.split('_')[1] or \"STRUC FSPGR SAG3D\" in file.split('_')[1] or \"Resting\" in file.split('_')[1]:\n",
    "                os.makedirs(os.path.join(savedpath_father, sub, sub_name, \"scans\", file), exist_ok=True) # create dir\n",
    "                print(file, \"Copying\")\n",
    "                copy_tree(file, os.path.join(savedpath_father, sub, sub_name, \"scans\", file)) # copy files\n",
    "        print(zips, \"Done\")\n",
    "        #end copy\n",
    "    #end unzip\n",
    "#end sub"
   ]
  },
  {
   "cell_type": "code",
   "execution_count": 115,
   "metadata": {},
   "outputs": [
    {
     "data": {
      "text/plain": [
       "'E:\\\\Test\\\\RawData\\\\A0387\\\\14790\\\\scans'"
      ]
     },
     "execution_count": 115,
     "metadata": {},
     "output_type": "execute_result"
    }
   ],
   "source": [
    "os.chdir(task_dir)"
   ]
  },
  {
   "cell_type": "code",
   "execution_count": null,
   "metadata": {},
   "outputs": [],
   "source": []
  },
  {
   "cell_type": "code",
   "execution_count": null,
   "metadata": {},
   "outputs": [],
   "source": []
  }
 ],
 "metadata": {
  "kernelspec": {
   "display_name": "Python 3",
   "language": "python",
   "name": "python3"
  },
  "language_info": {
   "codemirror_mode": {
    "name": "ipython",
    "version": 3
   },
   "file_extension": ".py",
   "mimetype": "text/x-python",
   "name": "python",
   "nbconvert_exporter": "python",
   "pygments_lexer": "ipython3",
   "version": "3.7.3"
  }
 },
 "nbformat": 4,
 "nbformat_minor": 2
}
